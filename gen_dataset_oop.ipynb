{
 "cells": [
  {
   "cell_type": "markdown",
   "metadata": {},
   "source": [
    "# Generate Dataset OOP"
   ]
  },
  {
   "cell_type": "markdown",
   "metadata": {},
   "source": [
    "## import Lib"
   ]
  },
  {
   "cell_type": "code",
   "execution_count": 1,
   "metadata": {},
   "outputs": [],
   "source": [
    "import numpy as np\n",
    "import matplotlib.pyplot as plt\n",
    "from scipy.io import wavfile\n",
    "from scipy.signal import fftconvolve\n",
    "import IPython\n",
    "import pyroomacoustics as pra\n",
    "import random\n",
    "from scipy.io.wavfile import read, write\n",
    "import csv\n",
    "import pandas as pd\n",
    "from tqdm import tqdm\n",
    "import os \n",
    "\n",
    "\n",
    "RT60_MIN = 0\n",
    "RT60_MAX = 0.7\n",
    "ROOM_DIAMETER_RANGE_MIN = 1\n",
    "ROOM_DIAMETER_RANGE_MAX = 5\n",
    "MIC_NUM = 8\n",
    "MIC_RADIUS = 0.1\n",
    "SOURCE_NUM = 8\n",
    "ROOM_NUM = 5\n",
    "ROOM_LAYOUT_NUM = 10\n",
    "FS = 44100\n",
    "DATASET_PATH = \"dataset_rir\"\n",
    "\n",
    "\n"
   ]
  },
  {
   "cell_type": "markdown",
   "metadata": {},
   "source": [
    "## Class gen rir dataset"
   ]
  },
  {
   "cell_type": "code",
   "execution_count": 2,
   "metadata": {},
   "outputs": [],
   "source": [
    "class RIR_Generator():\n",
    "    def __init__(self, randseed=1, rt60_min=RT60_MIN, rt60_max=RT60_MAX, room_diameter_range_min=ROOM_DIAMETER_RANGE_MIN, \n",
    "                room_diameter_range_max=ROOM_DIAMETER_RANGE_MAX, mic_num=MIC_NUM, mic_radius=MIC_RADIUS, \n",
    "                source_num=SOURCE_NUM, room_layout_num=ROOM_LAYOUT_NUM, fs=FS):\n",
    "        self.rt60_min = rt60_min\n",
    "        self.rt60_max = rt60_max\n",
    "        self.room_diameter_range_min = room_diameter_range_min\n",
    "        self.room_diameter_range_max = room_diameter_range_max\n",
    "        self.mic_num = mic_num\n",
    "        self.mic_radius = mic_radius\n",
    "        self.source_num = source_num\n",
    "        self.room_layout_num = room_layout_num\n",
    "        self.fs = fs\n",
    "        self.rng = np.random.default_rng(randseed)\n",
    "    \n",
    "    \n",
    "    # ================== helpers ==================:\n",
    "    def location_3d_in_range(self, range_array, num_location, minimum=0):\n",
    "        locations = []\n",
    "        for _ in range(num_location):\n",
    "            curr_loc = np.array([self.rng.uniform(low=minimum, high=range_array[0]), \n",
    "                                 self.rng.uniform(low=minimum, high=range_array[1]), \n",
    "                                 self.rng.uniform(low=minimum, high=range_array[2])])\n",
    "            locations.append(curr_loc)\n",
    "        return locations\n",
    "\n",
    "\n",
    "    def truncate_rir(self, room_rir, num_source, num_mic):\n",
    "        rir_len_lst = []\n",
    "        for i in range(num_mic):\n",
    "            for j in range(num_source):\n",
    "                rir_len_lst.append(len(room_rir[i][j]))\n",
    "                \n",
    "        min_rir_len = min(rir_len_lst)\n",
    "        for i in range(num_mic):\n",
    "            for j in range(num_source):\n",
    "                room_rir[i][j] = room_rir[i][j][:min_rir_len]\n",
    "                \n",
    "        return np.vstack(np.array(room_rir))   \n",
    "\n",
    "    \n",
    "    def initiate_csv_file(self, csv_file_name=\"dataset_rir/rir_lookup.csv\"):\n",
    "        headers = [\n",
    "            \"room_idx\",\n",
    "            \"room_layout_idx\",\n",
    "            \"source_locations\",\n",
    "            \"mic_location\"\n",
    "        ]\n",
    "    \n",
    "        with open(csv_file_name, 'w', newline='') as file:\n",
    "            writer = csv.writer(file)\n",
    "            writer.writerow(headers)\n",
    "    \n",
    "    \n",
    "    def write_csv_data(self, room_idx, room_layout_idx, csv_file_name=\"dataset_rir/rir_lookup.csv\"):\n",
    "        data = [[room_idx, room_layout_idx, self.source_locations, self.mic_center]]\n",
    "        with open(csv_file_name, 'a') as file:\n",
    "            writer = csv.writer(file)\n",
    "            writer.writerows(data)\n",
    "    \n",
    "    \n",
    "    def plot_room(self, room):\n",
    "        fig, ax = room.plot()\n",
    "        ax.set_xlim([0, 6])\n",
    "        ax.set_ylim([0, 6])\n",
    "        ax.set_zlim([0, 6]);\n",
    "        \n",
    "    \n",
    "    # ================== room construction ==================:\n",
    "    def construct_room_basic(self, show_plot=False):\n",
    "        self.room_dim =  np.array([random.uniform(self.room_diameter_range_min, self.room_diameter_range_max) for _ in range(3)])\n",
    "        while True:\n",
    "            try:\n",
    "                e_absorption, max_order = pra.inverse_sabine(random.uniform(self.rt60_min, self.rt60_max), self.room_dim)\n",
    "                break # if it worked then just break out of the loop\n",
    "            except ValueError:\n",
    "                continue\n",
    "            \n",
    "        self.room = pra.ShoeBox(self.room_dim, fs=self.fs, materials=pra.Material(e_absorption), max_order=max_order)\n",
    "        \n",
    "        if show_plot:\n",
    "            self.plot_room(self.room)\n",
    "\n",
    "\n",
    "    def add_mic_and_sources(self, show_plot=False):\n",
    "        # add mic array\n",
    "        self.mic_center =  self.location_3d_in_range(self.room.shoebox_dim, 1, minimum=self.mic_radius)[0]\n",
    "        R = pra.circular_2D_array(center=self.mic_center[:2], M=self.mic_num, phi0=0, radius=self.mic_radius)\n",
    "        R = np.concatenate((R, np.ones((1, self.mic_num)) * self.mic_center[2]), axis=0)\n",
    "        mics = pra.MicrophoneArray(R, self.fs)\n",
    "        self.room.add_microphone_array(mics)\n",
    "        \n",
    "        # add sources\n",
    "        self.source_locations = self.location_3d_in_range(self.room.shoebox_dim, self.source_num, minimum=0)\n",
    "        for i in range(self.source_num):\n",
    "            self.room.add_source(self.source_locations[i], delay=0)\n",
    "\n",
    "        if show_plot:\n",
    "            self.plot_room(self.room)\n",
    "        \n",
    "    \n",
    "    \n",
    "    def remove_mic_and_sources(self, show_plot=False):\n",
    "        for i in range(self.source_num):\n",
    "            del self.room.sources[0]\n",
    "        \n",
    "        self.room.mic_array = None               \n",
    "    \n",
    "        if show_plot:\n",
    "            self.plot_room(self.room)\n",
    "    \n",
    "    \n",
    "    def compute_and_save_room_rir(self, room_idx, room_layout_idx, show_plot=False):        \n",
    "        self.room.image_source_model()\n",
    "        self.room.compute_rir()\n",
    "        \n",
    "        if show_plot:\n",
    "            fig, ax = self.room.plot(img_order=3)\n",
    "            fig.set_size_inches(18.5, 10.5)\n",
    "            self.room.plot_rir()\n",
    "            fig = plt.gcf()\n",
    "            fig.set_size_inches(20, 10)\n",
    "         \n",
    "        # save room rir to wav\n",
    "        room_rir_arr = self.truncate_rir(self.room.rir, self.source_num, self.mic_num)\n",
    "        room_name = str(room_idx) + '_' + str(room_layout_idx)\n",
    "        rir_name = 'dataset_rir/' + str(room_idx) + '/' + room_name + '.wav'\n",
    "        write(rir_name, self.fs, room_rir_arr.T)\n",
    "        \n",
    "        # save room data to csv        \n",
    "        self.write_csv_data(room_idx, room_layout_idx) \n"
   ]
  },
  {
   "cell_type": "markdown",
   "metadata": {},
   "source": [
    "## Helper functions for running bunch of samples"
   ]
  },
  {
   "cell_type": "markdown",
   "metadata": {},
   "source": [
    "### Same room sample layouts"
   ]
  },
  {
   "cell_type": "code",
   "execution_count": 12,
   "metadata": {},
   "outputs": [],
   "source": [
    "def sample_room_layouts(rir_generator, room_idx, room_layout_num = ROOM_LAYOUT_NUM):\n",
    "    rir_generator.construct_room_basic()\n",
    "    for i in tqdm(range(room_layout_num)):\n",
    "        rir_generator.add_mic_and_sources()\n",
    "        rir_generator.compute_and_save_room_rir(room_idx, i)\n",
    "        rir_generator.remove_mic_and_sources()"
   ]
  },
  {
   "cell_type": "markdown",
   "metadata": {},
   "source": [
    "### Outer loop for creating rooms"
   ]
  },
  {
   "cell_type": "code",
   "execution_count": 13,
   "metadata": {},
   "outputs": [],
   "source": [
    "def sample_rooms(randseed, room_num = ROOM_NUM, room_layout_num=ROOM_LAYOUT_NUM, is_csv_exist=False, dataset_path=DATASET_PATH):\n",
    "    rir_generator = RIR_Generator(randseed=randseed)\n",
    "    if not is_csv_exist:\n",
    "        rir_generator.initiate_csv_file()\n",
    "    \n",
    "    for i in range(room_num):\n",
    "        dir_name = DATASET_PATH + \"/\" + str(i)\n",
    "        try:\n",
    "            os.mkdir(dir_name)\n",
    "        except FileExistsError:\n",
    "            print(\"already exist\")\n",
    "            \n",
    "        sample_room_layouts(rir_generator, i, room_layout_num)\n"
   ]
  },
  {
   "cell_type": "markdown",
   "metadata": {},
   "source": [
    "## Test Sampling Multiple Rooms"
   ]
  },
  {
   "cell_type": "code",
   "execution_count": 14,
   "metadata": {},
   "outputs": [
    {
     "name": "stderr",
     "output_type": "stream",
     "text": [
      "100%|██████████| 3/3 [00:28<00:00,  9.55s/it]\n",
      "100%|██████████| 3/3 [00:10<00:00,  3.35s/it]\n"
     ]
    }
   ],
   "source": [
    "sample_rooms(1, room_num=2, room_layout_num=3, is_csv_exist=False, dataset_path=DATASET_PATH)"
   ]
  },
  {
   "cell_type": "markdown",
   "metadata": {},
   "source": [
    "## rir_loader class"
   ]
  },
  {
   "cell_type": "code",
   "execution_count": 50,
   "metadata": {},
   "outputs": [],
   "source": [
    "class RIR_Loader():\n",
    "    def __init__(self, dataset_path, csv_path):\n",
    "        self.dataset_path = dataset_path\n",
    "        self.csv_path = csv_path\n",
    "    \n",
    "    \n",
    "    def get_layout_row(self, df, room_idx, room_layout_idx):\n",
    "        # Find rows where both conditions are met\n",
    "        condition = (df['room_idx'] == room_idx) & (df['room_layout_idx'] == room_layout_idx)\n",
    "        # Get the index of the row\n",
    "        indices = df.index[condition]\n",
    "        return indices.tolist()  # Convert index object to a list\n",
    "    \n",
    "    \n",
    "    def get_room_layout(self, room_idx, room_layout_idx):\n",
    "        room_layout_dict = {}\n",
    "        csv_name = self.csv_path + \"/\" + \"rir_lookup.csv\"\n",
    "        df = pd.read_csv(csv_name)\n",
    "        layout_row = self.get_layout_row(df, room_idx, room_layout_idx)[0]\n",
    "        \n",
    "        # get source locations\n",
    "        source_locations = df['source_locations'].iloc[layout_row]\n",
    "        source_locations = eval(source_locations, {'array': np.array})\n",
    "        room_layout_dict[\"source_locations\"] = source_locations\n",
    "        \n",
    "        # get mic location\n",
    "        mic_location = source_locations = df['mic_location'].iloc[0]\n",
    "        mic_location = np.fromstring(mic_location.strip(\"[]\"), sep=' ')\n",
    "        room_layout_dict[\"mic_location\"] = mic_location\n",
    "        \n",
    "        return room_layout_dict\n",
    "    \n",
    "    def get_room_rir(self, room_idx, room_layout_idx):\n",
    "        wav_name = self.dataset_path + \"/\" + str(room_idx) + \"/\" + str(room_idx) +  \"_\" + str(room_layout_idx) + \".wav\"\n",
    "        fs, rir = wavfile.read(wav_name)\n",
    "        return rir\n",
    "    "
   ]
  },
  {
   "cell_type": "markdown",
   "metadata": {},
   "source": [
    "## Test Loading RIR"
   ]
  },
  {
   "cell_type": "code",
   "execution_count": 52,
   "metadata": {},
   "outputs": [
    {
     "name": "stdout",
     "output_type": "stream",
     "text": [
      "{'source_locations': [array([0.25870405, 0.84194646, 2.20294709]), array([2.46683586, 0.42022748, 1.08609949]), array([1.4878257 , 2.17173916, 1.31614445]), array([2.07315915, 2.74228442, 2.09713417]), array([1.29018671, 1.46439533, 1.06144989]), array([0.38787777, 0.66375651, 0.8192731 ]), array([1.11036523, 1.02236752, 1.66477717]), array([3.43462066, 2.52993729, 2.2837912 ])], 'mic_location': array([2.51960689, 4.19286042, 0.3622582 ])}\n",
      "(41894, 64)\n"
     ]
    }
   ],
   "source": [
    "rir_loader = RIR_Loader(\"dataset_rir\", \"dataset_rir\")\n",
    "room_layout_dict = rir_loader.get_room_layout(1, 1)\n",
    "print(room_layout_dict)\n",
    "room_rir = rir_loader.get_room_rir(1, 1)\n",
    "print(room_rir.shape)"
   ]
  },
  {
   "cell_type": "code",
   "execution_count": null,
   "metadata": {},
   "outputs": [],
   "source": []
  }
 ],
 "metadata": {
  "kernelspec": {
   "display_name": "yulun4",
   "language": "python",
   "name": "python3"
  },
  "language_info": {
   "codemirror_mode": {
    "name": "ipython",
    "version": 3
   },
   "file_extension": ".py",
   "mimetype": "text/x-python",
   "name": "python",
   "nbconvert_exporter": "python",
   "pygments_lexer": "ipython3",
   "version": "3.8.19"
  }
 },
 "nbformat": 4,
 "nbformat_minor": 2
}
